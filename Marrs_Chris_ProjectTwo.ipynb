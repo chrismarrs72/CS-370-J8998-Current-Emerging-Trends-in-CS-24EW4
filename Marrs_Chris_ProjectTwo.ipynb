{
 "cells": [
  {
   "cell_type": "markdown",
   "metadata": {},
   "source": [
    "# Treasure Hunt Game Notebook\n",
    "\n",
    "## Read and Review Your Starter Code\n",
    "The theme of this project is a popular treasure hunt game in which the player needs to find the treasure before the pirate does. While you will not be developing the entire game, you will write the part of the game that represents the intelligent agent, which is a pirate in this case. The pirate will try to find the optimal path to the treasure using deep Q-learning. \n",
    "\n",
    "You have been provided with two Python classes and this notebook to help you with this assignment. The first class, TreasureMaze.py, represents the environment, which includes a maze object defined as a matrix. The second class, GameExperience.py, stores the episodes – that is, all the states that come in between the initial state and the terminal state. This is later used by the agent for learning by experience, called \"exploration\". This notebook shows how to play a game. Your task is to complete the deep Q-learning implementation for which a skeleton implementation has been provided. The code blocks you will need to complete has #TODO as a header.\n",
    "\n",
    "First, read and review the next few code and instruction blocks to understand the code that you have been given."
   ]
  },
  {
   "cell_type": "code",
   "execution_count": 21,
   "metadata": {},
   "outputs": [],
   "source": [
    "from __future__ import print_function\n",
    "import os, sys, time, datetime, json, random\n",
    "import numpy as np\n",
    "from keras.models import Sequential\n",
    "from keras.layers.core import Dense, Activation\n",
    "from keras.optimizers import SGD , Adam, RMSprop\n",
    "from keras.layers.advanced_activations import PReLU\n",
    "import matplotlib.pyplot as plt\n",
    "from TreasureMaze import TreasureMaze\n",
    "from GameExperience import GameExperience\n",
    "%matplotlib inline"
   ]
  },
  {
   "cell_type": "markdown",
   "metadata": {},
   "source": [
    "The following code block contains an 8x8 matrix that will be used as a maze object:"
   ]
  },
  {
   "cell_type": "code",
   "execution_count": 22,
   "metadata": {},
   "outputs": [],
   "source": [
    "maze = np.array([\n",
    "    [ 1.,  0.,  1.,  1.,  1.,  1.,  1.,  1.],\n",
    "    [ 1.,  0.,  1.,  1.,  1.,  0.,  1.,  1.],\n",
    "    [ 1.,  1.,  1.,  1.,  0.,  1.,  0.,  1.],\n",
    "    [ 1.,  1.,  1.,  0.,  1.,  1.,  1.,  1.],\n",
    "    [ 1.,  1.,  0.,  1.,  1.,  1.,  1.,  1.],\n",
    "    [ 1.,  1.,  1.,  0.,  1.,  0.,  0.,  0.],\n",
    "    [ 1.,  1.,  1.,  0.,  1.,  1.,  1.,  1.],\n",
    "    [ 1.,  1.,  1.,  1.,  0.,  1.,  1.,  1.]\n",
    "])"
   ]
  },
  {
   "cell_type": "markdown",
   "metadata": {},
   "source": [
    "This helper function allows a visual representation of the maze object:"
   ]
  },
  {
   "cell_type": "code",
   "execution_count": 23,
   "metadata": {},
   "outputs": [],
   "source": [
    "def show(qmaze):\n",
    "    plt.grid('on')\n",
    "    nrows, ncols = qmaze.maze.shape\n",
    "    ax = plt.gca()\n",
    "    ax.set_xticks(np.arange(0.5, nrows, 1))\n",
    "    ax.set_yticks(np.arange(0.5, ncols, 1))\n",
    "    ax.set_xticklabels([])\n",
    "    ax.set_yticklabels([])\n",
    "    canvas = np.copy(qmaze.maze)\n",
    "    for row,col in qmaze.visited:\n",
    "        canvas[row,col] = 0.6\n",
    "    pirate_row, pirate_col, _ = qmaze.state\n",
    "    canvas[pirate_row, pirate_col] = 0.3   # pirate cell\n",
    "    canvas[nrows-1, ncols-1] = 0.9 # treasure cell\n",
    "    img = plt.imshow(canvas, interpolation='none', cmap='gray')\n",
    "    return img"
   ]
  },
  {
   "cell_type": "markdown",
   "metadata": {},
   "source": [
    "The pirate agent can move in four directions: left, right, up, and down. \n",
    "\n",
    "While the agent primarily learns by experience through exploitation, often, the agent can choose to explore the environment to find previously undiscovered paths. This is called \"exploration\" and is defined by epsilon. This value is typically a lower value such as 0.1, which means for every ten attempts, the agent will attempt to learn by experience nine times and will randomly explore a new path one time. You are encouraged to try various values for the exploration factor and see how the algorithm performs."
   ]
  },
  {
   "cell_type": "code",
   "execution_count": 24,
   "metadata": {},
   "outputs": [],
   "source": [
    "LEFT = 0\n",
    "UP = 1\n",
    "RIGHT = 2\n",
    "DOWN = 3\n",
    "\n",
    "\n",
    "# Exploration factor\n",
    "epsilon = 0.1\n",
    "\n",
    "# Actions dictionary\n",
    "actions_dict = {\n",
    "    LEFT: 'left',\n",
    "    UP: 'up',\n",
    "    RIGHT: 'right',\n",
    "    DOWN: 'down',\n",
    "}\n",
    "\n",
    "num_actions = len(actions_dict)\n"
   ]
  },
  {
   "cell_type": "markdown",
   "metadata": {},
   "source": [
    "The sample code block and output below show creating a maze object and performing one action (DOWN), which returns the reward. The resulting updated environment is visualized."
   ]
  },
  {
   "cell_type": "code",
   "execution_count": 25,
   "metadata": {},
   "outputs": [
    {
     "name": "stdout",
     "output_type": "stream",
     "text": [
      "reward= -0.04\n"
     ]
    },
    {
     "data": {
      "text/plain": [
       "<matplotlib.image.AxesImage at 0x22955c9c908>"
      ]
     },
     "execution_count": 25,
     "metadata": {},
     "output_type": "execute_result"
    },
    {
     "data": {
      "image/png": "[encoded data removed]",
      "text/plain": [
       "<Figure size 432x288 with 1 Axes>"
      ]
     },
     "metadata": {
      "needs_background": "light"
     },
     "output_type": "display_data"
    }
   ],
   "source": [
    "qmaze = TreasureMaze(maze)\n",
    "canvas, reward, game_over = qmaze.act(DOWN)\n",
    "print(\"reward=\", reward)\n",
    "show(qmaze)"
   ]
  },
  {
   "cell_type": "markdown",
   "metadata": {},
   "source": [
    "This function simulates a full game based on the provided trained model. The other parameters include the TreasureMaze object and the starting position of the pirate."
   ]
  },
  {
   "cell_type": "code",
   "execution_count": 26,
   "metadata": {},
   "outputs": [],
   "source": [
    "def play_game(model, qmaze, pirate_cell):\n",
    "    qmaze.reset(pirate_cell)\n",
    "    envstate = qmaze.observe()\n",
    "    while True:\n",
    "        prev_envstate = envstate\n",
    "        # get next action\n",
    "        q = model.predict(prev_envstate)\n",
    "        action = np.argmax(q[0])\n",
    "\n",
    "        # apply action, get rewards and new state\n",
    "        envstate, reward, game_status = qmaze.act(action)\n",
    "        if game_status == 'win':\n",
    "            return True\n",
    "        elif game_status == 'lose':\n",
    "            return False"
   ]
  },
  {
   "cell_type": "markdown",
   "metadata": {},
   "source": [
    "This function helps you to determine whether the pirate can win any game at all. If your maze is not well designed, the pirate may not win any game at all. In this case, your training would not yield any result. The provided maze in this notebook ensures that there is a path to win and you can run this method to check."
   ]
  },
  {
   "cell_type": "code",
   "execution_count": 27,
   "metadata": {},
   "outputs": [],
   "source": [
    "def completion_check(model, qmaze):\n",
    "    for cell in qmaze.free_cells:\n",
    "        if not qmaze.valid_actions(cell):\n",
    "            return False\n",
    "        if not play_game(model, qmaze, cell):\n",
    "            return False\n",
    "    return True"
   ]
  },
  {
   "cell_type": "markdown",
   "metadata": {},
   "source": [
    "The code you have been given in this block will build the neural network model. Review the code and note the number of layers, as well as the activation, optimizer, and loss functions that are used to train the model."
   ]
  },
  {
   "cell_type": "code",
   "execution_count": 28,
   "metadata": {},
   "outputs": [],
   "source": [
    "def build_model(maze):\n",
    "    model = Sequential()\n",
    "    model.add(Dense(maze.size, input_shape=(maze.size,)))\n",
    "    model.add(PReLU())\n",
    "    model.add(Dense(maze.size))\n",
    "    model.add(PReLU())\n",
    "    model.add(Dense(num_actions))\n",
    "    model.compile(optimizer='adam', loss='mse')\n",
    "    return model"
   ]
  },
  {
   "cell_type": "markdown",
   "metadata": {},
   "source": [
    "# #TODO: Complete the Q-Training Algorithm Code Block\n",
    "\n",
    "This is your deep Q-learning implementation. The goal of your deep Q-learning implementation is to find the best possible navigation sequence that results in reaching the treasure cell while maximizing the reward. In your implementation, you need to determine the optimal number of epochs to achieve a 100% win rate.\n",
    "\n",
    "You will need to complete the section starting with #pseudocode. The pseudocode has been included for you."
   ]
  },
  {
   "cell_type": "code",
   "execution_count": 29,
   "metadata": {},
   "outputs": [],
   "source": [
    "def qtrain(model, maze, **opt):\n",
    "\n",
    "    # exploration factor\n",
    "    global epsilon \n",
    "\n",
    "    # number of epochs\n",
    "    n_epoch = opt.get('n_epoch', 15000)\n",
    "\n",
    "    # maximum memory to store episodes\n",
    "    max_memory = opt.get('max_memory', 1000)\n",
    "\n",
    "    # maximum data size for training\n",
    "    data_size = opt.get('data_size', 50)\n",
    "\n",
    "    # start time\n",
    "    start_time = datetime.datetime.now()\n",
    "\n",
    "    # Construct environment/game from numpy array: maze (see above)\n",
    "    qmaze = TreasureMaze(maze)\n",
    "\n",
    "    # Initialize experience replay object\n",
    "    experience = GameExperience(model, max_memory=max_memory)\n",
    "    \n",
    "    win_history = []   # history of win/lose game\n",
    "    hsize = qmaze.maze.size//2   # history window size\n",
    "    win_rate = 0.0\n",
    "    \n",
    "    # pseudocode:\n",
    "    # For each epoch:\n",
    "    #    Agent_cell = randomly select a free cell\n",
    "    #    Reset the maze with agent set to above position\n",
    "    #    Hint: Review the reset method in the TreasureMaze.py class.\n",
    "    #    envstate = Environment.current_state\n",
    "    #    Hint: Review the observe method in the TreasureMaze.py class.\n",
    "    #    While state is not game over:\n",
    "    #        previous_envstate = envstate\n",
    "    #        Action = randomly choose action (left, right, up, down) either by exploration or by exploitation\n",
    "    #        envstate, reward, game_status = qmaze.act(action)\n",
    "    #    Hint: Review the act method in the TreasureMaze.py class.\n",
    "    #        episode = [previous_envstate, action, reward, envstate, game_status]\n",
    "    #        Store episode in Experience replay object\n",
    "    #    Hint: Review the remember method in the GameExperience.py class.\n",
    "    #        Train neural network model and evaluate loss\n",
    "    #    Hint: Call GameExperience.get_data to retrieve training data (input and target) and pass to model.fit method \n",
    "    #          to train the model. You can call model.evaluate to determine loss.\n",
    "    #    If the win rate is above the threshold and your model passes the completion check, that would be your epoch.\n",
    "\n",
    "    # For each epoch:\n",
    "    for epoch in range(n_epoch):\n",
    "        loss = 0.0\n",
    "        # Agent_cell = randomly select a free cell\n",
    "        pirate_cell = random.choice(qmaze.free_cells)\n",
    "        # Reset the maze with agent set to above position\n",
    "        qmaze.reset(pirate_cell)\n",
    "        # envstate = Environment.current_state\n",
    "        envstate = qmaze.observe()\n",
    "\n",
    "        n_episodes = 0\n",
    "        # While state is not game over:\n",
    "        while True:\n",
    "            # previous_envstate = envstate\n",
    "            prev_envstate = envstate\n",
    "            # Action = randomly choose action (left, right, up, down) either by exploration or by exploitation\n",
    "            if np.random.rand() < epsilon:\n",
    "                action = random.choice(qmaze.valid_actions())\n",
    "            else:\n",
    "                action = np.argmax(model.predict(prev_envstate))\n",
    "            # envstate, reward, game_status = qmaze.act(action)\n",
    "            envstate, reward, game_status = qmaze.act(action)\n",
    "            # episode = [previous_envstate, action, reward, envstate, game_status]\n",
    "            episode = [prev_envstate, action, reward, envstate, game_status]\n",
    "            # Store episode in Experience replay object\n",
    "            experience.remember(episode)\n",
    "            n_episodes += 1\n",
    "\n",
    "            # Train neural network model and evaluate loss\n",
    "            inputs, targets = experience.get_data(data_size=data_size)\n",
    "            h = model.fit(inputs, targets, epochs=8, batch_size=16, verbose=0)\n",
    "            loss += h.history['loss'][0]\n",
    "\n",
    "            if game_status in ('win', 'lose'):\n",
    "                win_history.append(1 if game_status == 'win' else 0)\n",
    "                break\n",
    "\n",
    "        if len(win_history) > hsize:\n",
    "            win_rate = sum(win_history[-hsize:]) / hsize\n",
    "\n",
    "        #Print the epoch, loss, episodes, win count, and win rate for each epoch\n",
    "        dt = datetime.datetime.now() - start_time\n",
    "        t = format_time(dt.total_seconds())\n",
    "        template = \"Epoch: {:03d}/{:d} | Loss: {:.4f} | Episodes: {:d} | Win count: {:d} | Win rate: {:.3f} | time: {}\"\n",
    "        print(template.format(epoch, n_epoch-1, loss, n_episodes, sum(win_history), win_rate, t))\n",
    "        # We simply check if training has exhausted all free cells and if in all\n",
    "        # cases the agent won.\n",
    "        if win_rate > 0.9 : epsilon = 0.05\n",
    "        if sum(win_history[-hsize:]) == hsize and completion_check(model, qmaze):\n",
    "            print(\"Reached 100%% win rate at epoch: %d\" % (epoch,))\n",
    "            break\n",
    "    \n",
    "    # Determine the total time for training\n",
    "    dt = datetime.datetime.now() - start_time\n",
    "    seconds = dt.total_seconds()\n",
    "    t = format_time(seconds)\n",
    "\n",
    "    print(\"n_epoch: %d, max_mem: %d, data: %d, time: %s\" % (epoch, max_memory, data_size, t))\n",
    "    return seconds\n",
    "\n",
    "# This is a small utility for printing readable time strings:\n",
    "def format_time(seconds):\n",
    "    if seconds < 400:\n",
    "        s = float(seconds)\n",
    "        return \"%.1f seconds\" % (s,)\n",
    "    elif seconds < 4000:\n",
    "        m = seconds / 60.0\n",
    "        return \"%.2f minutes\" % (m,)\n",
    "    else:\n",
    "        h = seconds / 3600.0\n",
    "        return \"%.2f hours\" % (h,)"
   ]
  },
  {
   "cell_type": "markdown",
   "metadata": {},
   "source": [
    "## Test Your Model\n",
    "\n",
    "Now we will start testing the deep Q-learning implementation. To begin, select **Cell**, then **Run All** from the menu bar. This will run your notebook. As it runs, you should see output begin to appear beneath the next few cells. The code below creates an instance of TreasureMaze."
   ]
  },
  {
   "cell_type": "code",
   "execution_count": 30,
   "metadata": {},
   "outputs": [
    {
     "data": {
      "text/plain": [
       "<matplotlib.image.AxesImage at 0x22955d197c8>"
      ]
     },
     "execution_count": 30,
     "metadata": {},
     "output_type": "execute_result"
    },
    {
     "data": {
      "image/png": "[encoded data removed]",
      "text/plain": [
       "<Figure size 432x288 with 1 Axes>"
      ]
     },
     "metadata": {
      "needs_background": "light"
     },
     "output_type": "display_data"
    }
   ],
   "source": [
    "qmaze = TreasureMaze(maze)\n",
    "show(qmaze)"
   ]
  },
  {
   "cell_type": "markdown",
   "metadata": {},
   "source": [
    "In the next code block, you will build your model and train it using deep Q-learning. Note: This step takes several minutes to fully run."
   ]
  },
  {
   "cell_type": "code",
   "execution_count": 31,
   "metadata": {},
   "outputs": [
    {
     "name": "stdout",
     "output_type": "stream",
     "text": [
      "Epoch: 000/14999 | Loss: 0.3657 | Episodes: 2 | Win count: 1 | Win rate: 0.000 | time: 2.1 seconds\n",
      "Epoch: 001/14999 | Loss: 0.5892 | Episodes: 132 | Win count: 1 | Win rate: 0.000 | time: 17.8 seconds\n",
      "Epoch: 002/14999 | Loss: 0.0006 | Episodes: 1 | Win count: 2 | Win rate: 0.000 | time: 17.9 seconds\n",
      "Epoch: 003/14999 | Loss: 0.0970 | Episodes: 137 | Win count: 2 | Win rate: 0.000 | time: 36.8 seconds\n",
      "Epoch: 004/14999 | Loss: 0.0378 | Episodes: 37 | Win count: 3 | Win rate: 0.000 | time: 42.2 seconds\n",
      "Epoch: 005/14999 | Loss: 0.2105 | Episodes: 134 | Win count: 3 | Win rate: 0.000 | time: 61.4 seconds\n",
      "Epoch: 006/14999 | Loss: 0.1146 | Episodes: 141 | Win count: 3 | Win rate: 0.000 | time: 80.3 seconds\n",
      "Epoch: 007/14999 | Loss: 0.1072 | Episodes: 145 | Win count: 3 | Win rate: 0.000 | time: 100.7 seconds\n",
      "Epoch: 008/14999 | Loss: 0.0656 | Episodes: 79 | Win count: 4 | Win rate: 0.000 | time: 111.7 seconds\n",
      "Epoch: 009/14999 | Loss: 0.0208 | Episodes: 27 | Win count: 5 | Win rate: 0.000 | time: 115.6 seconds\n",
      "Epoch: 010/14999 | Loss: 0.0596 | Episodes: 56 | Win count: 6 | Win rate: 0.000 | time: 122.9 seconds\n",
      "Epoch: 011/14999 | Loss: 0.1374 | Episodes: 135 | Win count: 6 | Win rate: 0.000 | time: 141.3 seconds\n",
      "Epoch: 012/14999 | Loss: 0.0029 | Episodes: 4 | Win count: 7 | Win rate: 0.000 | time: 141.9 seconds\n",
      "Epoch: 013/14999 | Loss: 0.0106 | Episodes: 14 | Win count: 8 | Win rate: 0.000 | time: 143.7 seconds\n",
      "Epoch: 014/14999 | Loss: 0.0016 | Episodes: 2 | Win count: 9 | Win rate: 0.000 | time: 143.9 seconds\n",
      "Epoch: 015/14999 | Loss: 0.0311 | Episodes: 32 | Win count: 10 | Win rate: 0.000 | time: 148.0 seconds\n",
      "Epoch: 016/14999 | Loss: 0.0064 | Episodes: 7 | Win count: 11 | Win rate: 0.000 | time: 149.0 seconds\n",
      "Epoch: 017/14999 | Loss: 0.0441 | Episodes: 46 | Win count: 12 | Win rate: 0.000 | time: 155.6 seconds\n",
      "Epoch: 018/14999 | Loss: 0.0025 | Episodes: 4 | Win count: 13 | Win rate: 0.000 | time: 156.0 seconds\n",
      "Epoch: 019/14999 | Loss: 0.0019 | Episodes: 2 | Win count: 14 | Win rate: 0.000 | time: 156.2 seconds\n",
      "Epoch: 020/14999 | Loss: 0.0074 | Episodes: 8 | Win count: 15 | Win rate: 0.000 | time: 157.2 seconds\n",
      "Epoch: 021/14999 | Loss: 0.0761 | Episodes: 50 | Win count: 16 | Win rate: 0.000 | time: 164.0 seconds\n",
      "Epoch: 022/14999 | Loss: 0.0389 | Episodes: 31 | Win count: 17 | Win rate: 0.000 | time: 167.9 seconds\n",
      "Epoch: 023/14999 | Loss: 0.0045 | Episodes: 5 | Win count: 18 | Win rate: 0.000 | time: 168.5 seconds\n",
      "Epoch: 024/14999 | Loss: 0.0331 | Episodes: 38 | Win count: 19 | Win rate: 0.000 | time: 173.5 seconds\n",
      "Epoch: 025/14999 | Loss: 0.0113 | Episodes: 16 | Win count: 20 | Win rate: 0.000 | time: 175.6 seconds\n",
      "Epoch: 026/14999 | Loss: 0.0247 | Episodes: 28 | Win count: 21 | Win rate: 0.000 | time: 178.9 seconds\n",
      "Epoch: 027/14999 | Loss: 0.0165 | Episodes: 25 | Win count: 22 | Win rate: 0.000 | time: 181.6 seconds\n",
      "Epoch: 028/14999 | Loss: 0.0587 | Episodes: 55 | Win count: 23 | Win rate: 0.000 | time: 189.3 seconds\n",
      "Epoch: 029/14999 | Loss: 0.0353 | Episodes: 39 | Win count: 24 | Win rate: 0.000 | time: 194.6 seconds\n",
      "Epoch: 030/14999 | Loss: 0.0095 | Episodes: 10 | Win count: 25 | Win rate: 0.000 | time: 195.8 seconds\n",
      "Epoch: 031/14999 | Loss: 0.0111 | Episodes: 14 | Win count: 26 | Win rate: 0.000 | time: 197.9 seconds\n",
      "Epoch: 032/14999 | Loss: 0.0098 | Episodes: 14 | Win count: 27 | Win rate: 0.812 | time: 199.9 seconds\n",
      "Epoch: 033/14999 | Loss: 0.0221 | Episodes: 26 | Win count: 28 | Win rate: 0.844 | time: 203.4 seconds\n",
      "Epoch: 034/14999 | Loss: 0.0613 | Episodes: 66 | Win count: 29 | Win rate: 0.844 | time: 211.8 seconds\n",
      "Epoch: 035/14999 | Loss: 0.0177 | Episodes: 20 | Win count: 30 | Win rate: 0.875 | time: 214.2 seconds\n",
      "Epoch: 036/14999 | Loss: 0.0302 | Episodes: 39 | Win count: 31 | Win rate: 0.875 | time: 219.0 seconds\n",
      "Epoch: 037/14999 | Loss: 0.0018 | Episodes: 2 | Win count: 32 | Win rate: 0.906 | time: 219.3 seconds\n",
      "Epoch: 038/14999 | Loss: 0.0191 | Episodes: 21 | Win count: 33 | Win rate: 0.938 | time: 221.7 seconds\n",
      "Epoch: 039/14999 | Loss: 0.0165 | Episodes: 21 | Win count: 34 | Win rate: 0.969 | time: 224.1 seconds\n",
      "Epoch: 040/14999 | Loss: 0.0268 | Episodes: 39 | Win count: 35 | Win rate: 0.969 | time: 228.7 seconds\n",
      "Epoch: 041/14999 | Loss: 0.0297 | Episodes: 35 | Win count: 36 | Win rate: 0.969 | time: 233.1 seconds\n",
      "Epoch: 042/14999 | Loss: 0.0258 | Episodes: 27 | Win count: 37 | Win rate: 0.969 | time: 236.4 seconds\n",
      "Epoch: 043/14999 | Loss: 0.0265 | Episodes: 31 | Win count: 38 | Win rate: 1.000 | time: 240.5 seconds\n",
      "Epoch: 044/14999 | Loss: 0.0156 | Episodes: 19 | Win count: 39 | Win rate: 1.000 | time: 243.5 seconds\n",
      "Epoch: 045/14999 | Loss: 0.0152 | Episodes: 19 | Win count: 40 | Win rate: 1.000 | time: 246.3 seconds\n",
      "Epoch: 046/14999 | Loss: 0.0157 | Episodes: 17 | Win count: 41 | Win rate: 1.000 | time: 248.6 seconds\n",
      "Epoch: 047/14999 | Loss: 0.0068 | Episodes: 8 | Win count: 42 | Win rate: 1.000 | time: 250.0 seconds\n",
      "Epoch: 048/14999 | Loss: 0.0169 | Episodes: 19 | Win count: 43 | Win rate: 1.000 | time: 252.6 seconds\n",
      "Epoch: 049/14999 | Loss: 0.0162 | Episodes: 22 | Win count: 44 | Win rate: 1.000 | time: 255.4 seconds\n",
      "Epoch: 050/14999 | Loss: 0.0315 | Episodes: 49 | Win count: 45 | Win rate: 1.000 | time: 261.6 seconds\n",
      "Epoch: 051/14999 | Loss: 0.0173 | Episodes: 26 | Win count: 46 | Win rate: 1.000 | time: 264.9 seconds\n",
      "Epoch: 052/14999 | Loss: 0.0050 | Episodes: 7 | Win count: 47 | Win rate: 1.000 | time: 266.2 seconds\n",
      "Epoch: 053/14999 | Loss: 0.0592 | Episodes: 103 | Win count: 48 | Win rate: 1.000 | time: 280.1 seconds\n",
      "Epoch: 054/14999 | Loss: 0.0186 | Episodes: 43 | Win count: 49 | Win rate: 1.000 | time: 285.8 seconds\n",
      "Epoch: 055/14999 | Loss: 0.0146 | Episodes: 36 | Win count: 50 | Win rate: 1.000 | time: 290.6 seconds\n",
      "Epoch: 056/14999 | Loss: 0.0133 | Episodes: 30 | Win count: 51 | Win rate: 1.000 | time: 294.6 seconds\n",
      "Epoch: 057/14999 | Loss: 0.0103 | Episodes: 22 | Win count: 52 | Win rate: 1.000 | time: 298.0 seconds\n",
      "Epoch: 058/14999 | Loss: 0.0054 | Episodes: 14 | Win count: 53 | Win rate: 1.000 | time: 300.6 seconds\n",
      "Epoch: 059/14999 | Loss: 0.0090 | Episodes: 27 | Win count: 54 | Win rate: 1.000 | time: 305.7 seconds\n",
      "Epoch: 060/14999 | Loss: 0.0008 | Episodes: 2 | Win count: 55 | Win rate: 1.000 | time: 306.5 seconds\n",
      "Epoch: 061/14999 | Loss: 0.0027 | Episodes: 8 | Win count: 56 | Win rate: 1.000 | time: 307.9 seconds\n",
      "Epoch: 062/14999 | Loss: 0.0099 | Episodes: 24 | Win count: 57 | Win rate: 1.000 | time: 311.5 seconds\n",
      "Epoch: 063/14999 | Loss: 0.0081 | Episodes: 30 | Win count: 58 | Win rate: 1.000 | time: 316.9 seconds\n",
      "Epoch: 064/14999 | Loss: 0.0006 | Episodes: 2 | Win count: 59 | Win rate: 1.000 | time: 317.7 seconds\n",
      "Epoch: 065/14999 | Loss: 0.0065 | Episodes: 21 | Win count: 60 | Win rate: 1.000 | time: 321.0 seconds\n",
      "Epoch: 066/14999 | Loss: 0.0059 | Episodes: 17 | Win count: 61 | Win rate: 1.000 | time: 323.5 seconds\n",
      "Epoch: 067/14999 | Loss: 0.0055 | Episodes: 29 | Win count: 62 | Win rate: 1.000 | time: 327.6 seconds\n",
      "Epoch: 068/14999 | Loss: 0.0151 | Episodes: 41 | Win count: 63 | Win rate: 1.000 | time: 333.2 seconds\n",
      "Epoch: 069/14999 | Loss: 0.0066 | Episodes: 15 | Win count: 64 | Win rate: 1.000 | time: 335.4 seconds\n",
      "Epoch: 070/14999 | Loss: 0.0048 | Episodes: 18 | Win count: 65 | Win rate: 1.000 | time: 337.7 seconds\n",
      "Epoch: 071/14999 | Loss: 0.0169 | Episodes: 32 | Win count: 66 | Win rate: 1.000 | time: 342.0 seconds\n",
      "Epoch: 072/14999 | Loss: 0.0027 | Episodes: 5 | Win count: 67 | Win rate: 1.000 | time: 342.8 seconds\n",
      "Epoch: 073/14999 | Loss: 0.0096 | Episodes: 23 | Win count: 68 | Win rate: 1.000 | time: 345.8 seconds\n",
      "Epoch: 074/14999 | Loss: 0.0137 | Episodes: 30 | Win count: 69 | Win rate: 1.000 | time: 349.9 seconds\n",
      "Epoch: 075/14999 | Loss: 0.0114 | Episodes: 26 | Win count: 70 | Win rate: 1.000 | time: 353.1 seconds\n",
      "Epoch: 076/14999 | Loss: 0.0038 | Episodes: 7 | Win count: 71 | Win rate: 1.000 | time: 354.4 seconds\n",
      "Epoch: 077/14999 | Loss: 0.0132 | Episodes: 29 | Win count: 72 | Win rate: 1.000 | time: 358.3 seconds\n",
      "Epoch: 078/14999 | Loss: 0.0106 | Episodes: 22 | Win count: 73 | Win rate: 1.000 | time: 361.1 seconds\n",
      "Epoch: 079/14999 | Loss: 0.0120 | Episodes: 12 | Win count: 74 | Win rate: 1.000 | time: 363.0 seconds\n"
     ]
    },
    {
     "name": "stdout",
     "output_type": "stream",
     "text": [
      "Epoch: 080/14999 | Loss: 0.0317 | Episodes: 40 | Win count: 75 | Win rate: 1.000 | time: 368.2 seconds\n",
      "Epoch: 081/14999 | Loss: 0.0148 | Episodes: 24 | Win count: 76 | Win rate: 1.000 | time: 371.7 seconds\n",
      "Epoch: 082/14999 | Loss: 0.0339 | Episodes: 43 | Win count: 77 | Win rate: 1.000 | time: 377.9 seconds\n",
      "Epoch: 083/14999 | Loss: 0.0235 | Episodes: 23 | Win count: 78 | Win rate: 1.000 | time: 381.1 seconds\n",
      "Epoch: 084/14999 | Loss: 0.0042 | Episodes: 4 | Win count: 79 | Win rate: 1.000 | time: 381.6 seconds\n",
      "Epoch: 085/14999 | Loss: 0.0270 | Episodes: 38 | Win count: 80 | Win rate: 1.000 | time: 386.5 seconds\n",
      "Epoch: 086/14999 | Loss: 0.0334 | Episodes: 33 | Win count: 81 | Win rate: 1.000 | time: 392.8 seconds\n",
      "Epoch: 087/14999 | Loss: 0.0878 | Episodes: 63 | Win count: 82 | Win rate: 1.000 | time: 6.71 minutes\n",
      "Epoch: 088/14999 | Loss: 0.0169 | Episodes: 11 | Win count: 83 | Win rate: 1.000 | time: 6.74 minutes\n",
      "Epoch: 089/14999 | Loss: 0.0042 | Episodes: 5 | Win count: 84 | Win rate: 1.000 | time: 6.76 minutes\n",
      "Epoch: 090/14999 | Loss: 0.0009 | Episodes: 1 | Win count: 85 | Win rate: 1.000 | time: 6.76 minutes\n",
      "Epoch: 091/14999 | Loss: 0.0388 | Episodes: 34 | Win count: 86 | Win rate: 1.000 | time: 6.84 minutes\n",
      "Epoch: 092/14999 | Loss: 0.0142 | Episodes: 12 | Win count: 87 | Win rate: 1.000 | time: 6.87 minutes\n",
      "Epoch: 093/14999 | Loss: 0.0074 | Episodes: 8 | Win count: 88 | Win rate: 1.000 | time: 6.89 minutes\n",
      "Epoch: 094/14999 | Loss: 0.0541 | Episodes: 56 | Win count: 89 | Win rate: 1.000 | time: 7.01 minutes\n",
      "Epoch: 095/14999 | Loss: 0.0243 | Episodes: 22 | Win count: 90 | Win rate: 1.000 | time: 7.07 minutes\n",
      "Epoch: 096/14999 | Loss: 0.0116 | Episodes: 12 | Win count: 91 | Win rate: 1.000 | time: 7.10 minutes\n",
      "Epoch: 097/14999 | Loss: 0.0861 | Episodes: 74 | Win count: 92 | Win rate: 1.000 | time: 7.27 minutes\n",
      "Epoch: 098/14999 | Loss: 0.0348 | Episodes: 27 | Win count: 93 | Win rate: 1.000 | time: 7.33 minutes\n",
      "Epoch: 099/14999 | Loss: 0.0270 | Episodes: 24 | Win count: 94 | Win rate: 1.000 | time: 7.39 minutes\n",
      "Epoch: 100/14999 | Loss: 0.0004 | Episodes: 1 | Win count: 95 | Win rate: 1.000 | time: 7.39 minutes\n",
      "Epoch: 101/14999 | Loss: 0.0213 | Episodes: 18 | Win count: 96 | Win rate: 1.000 | time: 7.43 minutes\n",
      "Epoch: 102/14999 | Loss: 0.0272 | Episodes: 23 | Win count: 97 | Win rate: 1.000 | time: 7.47 minutes\n",
      "Epoch: 103/14999 | Loss: 0.0483 | Episodes: 49 | Win count: 98 | Win rate: 1.000 | time: 7.58 minutes\n",
      "Epoch: 104/14999 | Loss: 0.0239 | Episodes: 21 | Win count: 99 | Win rate: 1.000 | time: 7.63 minutes\n",
      "Epoch: 105/14999 | Loss: 0.0257 | Episodes: 27 | Win count: 100 | Win rate: 1.000 | time: 7.70 minutes\n",
      "Epoch: 106/14999 | Loss: 0.0049 | Episodes: 4 | Win count: 101 | Win rate: 1.000 | time: 7.71 minutes\n",
      "Epoch: 107/14999 | Loss: 0.0035 | Episodes: 4 | Win count: 102 | Win rate: 1.000 | time: 7.72 minutes\n",
      "Epoch: 108/14999 | Loss: 0.0017 | Episodes: 2 | Win count: 103 | Win rate: 1.000 | time: 7.73 minutes\n",
      "Epoch: 109/14999 | Loss: 0.0017 | Episodes: 2 | Win count: 104 | Win rate: 1.000 | time: 7.74 minutes\n",
      "Epoch: 110/14999 | Loss: 0.0115 | Episodes: 14 | Win count: 105 | Win rate: 1.000 | time: 7.77 minutes\n",
      "Epoch: 111/14999 | Loss: 0.0008 | Episodes: 1 | Win count: 106 | Win rate: 1.000 | time: 7.77 minutes\n",
      "Epoch: 112/14999 | Loss: 0.0221 | Episodes: 23 | Win count: 107 | Win rate: 1.000 | time: 7.82 minutes\n",
      "Epoch: 113/14999 | Loss: 0.0337 | Episodes: 40 | Win count: 108 | Win rate: 1.000 | time: 7.90 minutes\n",
      "Epoch: 114/14999 | Loss: 0.0071 | Episodes: 9 | Win count: 109 | Win rate: 1.000 | time: 7.92 minutes\n",
      "Epoch: 115/14999 | Loss: 0.0097 | Episodes: 13 | Win count: 110 | Win rate: 1.000 | time: 7.94 minutes\n",
      "Epoch: 116/14999 | Loss: 0.0121 | Episodes: 18 | Win count: 111 | Win rate: 1.000 | time: 7.99 minutes\n",
      "Epoch: 117/14999 | Loss: 0.0011 | Episodes: 2 | Win count: 112 | Win rate: 1.000 | time: 8.00 minutes\n",
      "Epoch: 118/14999 | Loss: 0.0122 | Episodes: 17 | Win count: 113 | Win rate: 1.000 | time: 8.04 minutes\n",
      "Epoch: 119/14999 | Loss: 0.0217 | Episodes: 29 | Win count: 114 | Win rate: 1.000 | time: 8.10 minutes\n",
      "Epoch: 120/14999 | Loss: 0.0316 | Episodes: 34 | Win count: 115 | Win rate: 1.000 | time: 8.17 minutes\n",
      "Epoch: 121/14999 | Loss: 0.0016 | Episodes: 1 | Win count: 116 | Win rate: 1.000 | time: 8.18 minutes\n",
      "Epoch: 122/14999 | Loss: 0.0015 | Episodes: 2 | Win count: 117 | Win rate: 1.000 | time: 8.18 minutes\n",
      "Epoch: 123/14999 | Loss: 0.0018 | Episodes: 2 | Win count: 118 | Win rate: 1.000 | time: 8.19 minutes\n",
      "Epoch: 124/14999 | Loss: 0.0389 | Episodes: 47 | Win count: 119 | Win rate: 1.000 | time: 8.28 minutes\n",
      "Epoch: 125/14999 | Loss: 0.0011 | Episodes: 2 | Win count: 120 | Win rate: 1.000 | time: 8.28 minutes\n",
      "Epoch: 126/14999 | Loss: 0.0198 | Episodes: 23 | Win count: 121 | Win rate: 1.000 | time: 8.33 minutes\n",
      "Epoch: 127/14999 | Loss: 0.0124 | Episodes: 22 | Win count: 122 | Win rate: 1.000 | time: 8.38 minutes\n",
      "Epoch: 128/14999 | Loss: 0.0066 | Episodes: 14 | Win count: 123 | Win rate: 1.000 | time: 8.41 minutes\n",
      "Epoch: 129/14999 | Loss: 0.0158 | Episodes: 27 | Win count: 124 | Win rate: 1.000 | time: 8.46 minutes\n",
      "Epoch: 130/14999 | Loss: 0.0007 | Episodes: 1 | Win count: 125 | Win rate: 1.000 | time: 8.47 minutes\n",
      "Epoch: 131/14999 | Loss: 0.0139 | Episodes: 29 | Win count: 126 | Win rate: 1.000 | time: 8.52 minutes\n",
      "Epoch: 132/14999 | Loss: 0.0106 | Episodes: 16 | Win count: 127 | Win rate: 1.000 | time: 8.55 minutes\n",
      "Epoch: 133/14999 | Loss: 0.0313 | Episodes: 50 | Win count: 128 | Win rate: 1.000 | time: 8.64 minutes\n",
      "Epoch: 134/14999 | Loss: 0.0058 | Episodes: 13 | Win count: 129 | Win rate: 1.000 | time: 8.67 minutes\n",
      "Epoch: 135/14999 | Loss: 0.0080 | Episodes: 16 | Win count: 130 | Win rate: 1.000 | time: 8.70 minutes\n",
      "Epoch: 136/14999 | Loss: 0.0156 | Episodes: 26 | Win count: 131 | Win rate: 1.000 | time: 8.75 minutes\n",
      "Epoch: 137/14999 | Loss: 0.0147 | Episodes: 31 | Win count: 132 | Win rate: 1.000 | time: 8.81 minutes\n",
      "Epoch: 138/14999 | Loss: 0.0112 | Episodes: 22 | Win count: 133 | Win rate: 1.000 | time: 8.86 minutes\n",
      "Epoch: 139/14999 | Loss: 0.0192 | Episodes: 32 | Win count: 134 | Win rate: 1.000 | time: 8.92 minutes\n",
      "Epoch: 140/14999 | Loss: 0.0144 | Episodes: 33 | Win count: 135 | Win rate: 1.000 | time: 9.00 minutes\n",
      "Epoch: 141/14999 | Loss: 0.0198 | Episodes: 37 | Win count: 136 | Win rate: 1.000 | time: 9.08 minutes\n",
      "Epoch: 142/14999 | Loss: 0.0038 | Episodes: 13 | Win count: 137 | Win rate: 1.000 | time: 9.11 minutes\n",
      "Epoch: 143/14999 | Loss: 0.0020 | Episodes: 6 | Win count: 138 | Win rate: 1.000 | time: 9.12 minutes\n",
      "Epoch: 144/14999 | Loss: 0.0044 | Episodes: 10 | Win count: 139 | Win rate: 1.000 | time: 9.14 minutes\n",
      "Epoch: 145/14999 | Loss: 0.0029 | Episodes: 11 | Win count: 140 | Win rate: 1.000 | time: 9.17 minutes\n",
      "Epoch: 146/14999 | Loss: 0.0035 | Episodes: 8 | Win count: 141 | Win rate: 1.000 | time: 9.18 minutes\n",
      "Epoch: 147/14999 | Loss: 0.0091 | Episodes: 27 | Win count: 142 | Win rate: 1.000 | time: 9.23 minutes\n",
      "Epoch: 148/14999 | Loss: 0.0106 | Episodes: 27 | Win count: 143 | Win rate: 1.000 | time: 9.28 minutes\n",
      "Epoch: 149/14999 | Loss: 0.0043 | Episodes: 15 | Win count: 144 | Win rate: 1.000 | time: 9.31 minutes\n",
      "Epoch: 150/14999 | Loss: 0.0135 | Episodes: 34 | Win count: 145 | Win rate: 1.000 | time: 9.37 minutes\n",
      "Epoch: 151/14999 | Loss: 0.0135 | Episodes: 28 | Win count: 146 | Win rate: 1.000 | time: 9.45 minutes\n",
      "Epoch: 152/14999 | Loss: 0.0097 | Episodes: 18 | Win count: 147 | Win rate: 1.000 | time: 9.48 minutes\n",
      "Epoch: 153/14999 | Loss: 0.0181 | Episodes: 37 | Win count: 148 | Win rate: 1.000 | time: 9.54 minutes\n",
      "Epoch: 154/14999 | Loss: 0.0104 | Episodes: 19 | Win count: 149 | Win rate: 1.000 | time: 9.58 minutes\n",
      "Epoch: 155/14999 | Loss: 0.0042 | Episodes: 6 | Win count: 150 | Win rate: 1.000 | time: 9.59 minutes\n",
      "Epoch: 156/14999 | Loss: 0.0122 | Episodes: 29 | Win count: 151 | Win rate: 1.000 | time: 9.64 minutes\n",
      "Epoch: 157/14999 | Loss: 0.0021 | Episodes: 3 | Win count: 152 | Win rate: 1.000 | time: 9.65 minutes\n",
      "Epoch: 158/14999 | Loss: 0.0089 | Episodes: 21 | Win count: 153 | Win rate: 1.000 | time: 9.69 minutes\n",
      "Epoch: 159/14999 | Loss: 0.0101 | Episodes: 25 | Win count: 154 | Win rate: 1.000 | time: 9.74 minutes\n"
     ]
    },
    {
     "name": "stdout",
     "output_type": "stream",
     "text": [
      "Epoch: 160/14999 | Loss: 0.0154 | Episodes: 37 | Win count: 155 | Win rate: 1.000 | time: 9.81 minutes\n",
      "Epoch: 161/14999 | Loss: 0.0018 | Episodes: 5 | Win count: 156 | Win rate: 1.000 | time: 9.82 minutes\n",
      "Epoch: 162/14999 | Loss: 0.0086 | Episodes: 21 | Win count: 157 | Win rate: 1.000 | time: 9.87 minutes\n",
      "Epoch: 163/14999 | Loss: 0.0041 | Episodes: 9 | Win count: 158 | Win rate: 1.000 | time: 9.88 minutes\n",
      "Epoch: 164/14999 | Loss: 0.0112 | Episodes: 21 | Win count: 159 | Win rate: 1.000 | time: 9.92 minutes\n",
      "Epoch: 165/14999 | Loss: 0.0152 | Episodes: 22 | Win count: 160 | Win rate: 1.000 | time: 9.98 minutes\n",
      "Epoch: 166/14999 | Loss: 0.0023 | Episodes: 4 | Win count: 161 | Win rate: 1.000 | time: 9.99 minutes\n",
      "Epoch: 167/14999 | Loss: 0.0064 | Episodes: 17 | Win count: 162 | Win rate: 1.000 | time: 10.02 minutes\n",
      "Epoch: 168/14999 | Loss: 0.0198 | Episodes: 35 | Win count: 163 | Win rate: 1.000 | time: 10.10 minutes\n",
      "Epoch: 169/14999 | Loss: 0.0059 | Episodes: 12 | Win count: 164 | Win rate: 1.000 | time: 10.13 minutes\n",
      "Epoch: 170/14999 | Loss: 0.0001 | Episodes: 1 | Win count: 165 | Win rate: 1.000 | time: 10.13 minutes\n",
      "Epoch: 171/14999 | Loss: 0.0104 | Episodes: 21 | Win count: 166 | Win rate: 1.000 | time: 10.18 minutes\n",
      "Epoch: 172/14999 | Loss: 0.0231 | Episodes: 41 | Win count: 167 | Win rate: 1.000 | time: 10.26 minutes\n",
      "Epoch: 173/14999 | Loss: 0.0018 | Episodes: 2 | Win count: 168 | Win rate: 1.000 | time: 10.26 minutes\n",
      "Epoch: 174/14999 | Loss: 0.0118 | Episodes: 26 | Win count: 169 | Win rate: 1.000 | time: 10.31 minutes\n",
      "Epoch: 175/14999 | Loss: 0.0096 | Episodes: 30 | Win count: 170 | Win rate: 1.000 | time: 10.37 minutes\n",
      "Epoch: 176/14999 | Loss: 0.0007 | Episodes: 2 | Win count: 171 | Win rate: 1.000 | time: 10.38 minutes\n",
      "Epoch: 177/14999 | Loss: 0.0012 | Episodes: 2 | Win count: 172 | Win rate: 1.000 | time: 10.40 minutes\n",
      "Epoch: 178/14999 | Loss: 0.0101 | Episodes: 29 | Win count: 173 | Win rate: 1.000 | time: 10.46 minutes\n",
      "Epoch: 179/14999 | Loss: 0.0135 | Episodes: 34 | Win count: 174 | Win rate: 1.000 | time: 10.53 minutes\n",
      "Epoch: 180/14999 | Loss: 0.0182 | Episodes: 46 | Win count: 175 | Win rate: 1.000 | time: 10.61 minutes\n",
      "Epoch: 181/14999 | Loss: 0.0051 | Episodes: 11 | Win count: 176 | Win rate: 1.000 | time: 10.63 minutes\n",
      "Epoch: 182/14999 | Loss: 0.0091 | Episodes: 22 | Win count: 177 | Win rate: 1.000 | time: 10.68 minutes\n",
      "Epoch: 183/14999 | Loss: 0.0122 | Episodes: 28 | Win count: 178 | Win rate: 1.000 | time: 10.72 minutes\n",
      "Epoch: 184/14999 | Loss: 0.0099 | Episodes: 22 | Win count: 179 | Win rate: 1.000 | time: 10.77 minutes\n",
      "Epoch: 185/14999 | Loss: 0.0010 | Episodes: 4 | Win count: 180 | Win rate: 1.000 | time: 10.79 minutes\n",
      "Epoch: 186/14999 | Loss: 0.0038 | Episodes: 11 | Win count: 181 | Win rate: 1.000 | time: 10.81 minutes\n",
      "Epoch: 187/14999 | Loss: 0.0079 | Episodes: 21 | Win count: 182 | Win rate: 1.000 | time: 10.85 minutes\n",
      "Epoch: 188/14999 | Loss: 0.0083 | Episodes: 24 | Win count: 183 | Win rate: 1.000 | time: 10.89 minutes\n",
      "Epoch: 189/14999 | Loss: 0.0070 | Episodes: 27 | Win count: 184 | Win rate: 1.000 | time: 10.94 minutes\n",
      "Epoch: 190/14999 | Loss: 0.0077 | Episodes: 25 | Win count: 185 | Win rate: 1.000 | time: 10.99 minutes\n",
      "Epoch: 191/14999 | Loss: 0.0014 | Episodes: 4 | Win count: 186 | Win rate: 1.000 | time: 11.00 minutes\n",
      "Epoch: 192/14999 | Loss: 0.0099 | Episodes: 38 | Win count: 187 | Win rate: 1.000 | time: 11.08 minutes\n",
      "Epoch: 193/14999 | Loss: 0.0042 | Episodes: 14 | Win count: 188 | Win rate: 1.000 | time: 11.11 minutes\n",
      "Epoch: 194/14999 | Loss: 0.0009 | Episodes: 2 | Win count: 189 | Win rate: 1.000 | time: 11.12 minutes\n",
      "Epoch: 195/14999 | Loss: 0.0065 | Episodes: 17 | Win count: 190 | Win rate: 1.000 | time: 11.17 minutes\n",
      "Epoch: 196/14999 | Loss: 0.0015 | Episodes: 2 | Win count: 191 | Win rate: 1.000 | time: 11.18 minutes\n",
      "Epoch: 197/14999 | Loss: 0.0035 | Episodes: 13 | Win count: 192 | Win rate: 1.000 | time: 11.22 minutes\n",
      "Epoch: 198/14999 | Loss: 0.0056 | Episodes: 20 | Win count: 193 | Win rate: 1.000 | time: 11.26 minutes\n",
      "Epoch: 199/14999 | Loss: 0.0032 | Episodes: 9 | Win count: 194 | Win rate: 1.000 | time: 11.28 minutes\n",
      "Epoch: 200/14999 | Loss: 0.0073 | Episodes: 25 | Win count: 195 | Win rate: 1.000 | time: 11.33 minutes\n",
      "Epoch: 201/14999 | Loss: 0.0073 | Episodes: 29 | Win count: 196 | Win rate: 1.000 | time: 11.38 minutes\n",
      "Epoch: 202/14999 | Loss: 0.0018 | Episodes: 8 | Win count: 197 | Win rate: 1.000 | time: 11.39 minutes\n",
      "Epoch: 203/14999 | Loss: 0.0055 | Episodes: 24 | Win count: 198 | Win rate: 1.000 | time: 11.44 minutes\n",
      "Epoch: 204/14999 | Loss: 0.0091 | Episodes: 28 | Win count: 199 | Win rate: 1.000 | time: 11.49 minutes\n",
      "Epoch: 205/14999 | Loss: 0.0184 | Episodes: 41 | Win count: 200 | Win rate: 1.000 | time: 11.57 minutes\n",
      "Epoch: 206/14999 | Loss: 0.0127 | Episodes: 31 | Win count: 201 | Win rate: 1.000 | time: 11.65 minutes\n",
      "Epoch: 207/14999 | Loss: 0.0072 | Episodes: 21 | Win count: 202 | Win rate: 1.000 | time: 11.70 minutes\n",
      "Epoch: 208/14999 | Loss: 0.0038 | Episodes: 10 | Win count: 203 | Win rate: 1.000 | time: 11.72 minutes\n",
      "Epoch: 209/14999 | Loss: 0.0088 | Episodes: 12 | Win count: 204 | Win rate: 1.000 | time: 11.75 minutes\n",
      "Epoch: 210/14999 | Loss: 0.0004 | Episodes: 1 | Win count: 205 | Win rate: 1.000 | time: 11.76 minutes\n",
      "Epoch: 211/14999 | Loss: 0.0109 | Episodes: 25 | Win count: 206 | Win rate: 1.000 | time: 11.80 minutes\n",
      "Epoch: 212/14999 | Loss: 0.0162 | Episodes: 38 | Win count: 207 | Win rate: 1.000 | time: 11.89 minutes\n",
      "Epoch: 213/14999 | Loss: 0.0087 | Episodes: 19 | Win count: 208 | Win rate: 1.000 | time: 11.95 minutes\n",
      "Epoch: 214/14999 | Loss: 0.0011 | Episodes: 2 | Win count: 209 | Win rate: 1.000 | time: 11.97 minutes\n",
      "Epoch: 215/14999 | Loss: 0.0094 | Episodes: 20 | Win count: 210 | Win rate: 1.000 | time: 12.02 minutes\n",
      "Epoch: 216/14999 | Loss: 0.0093 | Episodes: 15 | Win count: 211 | Win rate: 1.000 | time: 12.06 minutes\n",
      "Epoch: 217/14999 | Loss: 0.0088 | Episodes: 23 | Win count: 212 | Win rate: 1.000 | time: 12.12 minutes\n",
      "Epoch: 218/14999 | Loss: 0.0200 | Episodes: 41 | Win count: 213 | Win rate: 1.000 | time: 12.21 minutes\n",
      "Epoch: 219/14999 | Loss: 0.0010 | Episodes: 1 | Win count: 214 | Win rate: 1.000 | time: 12.22 minutes\n",
      "Epoch: 220/14999 | Loss: 0.0108 | Episodes: 21 | Win count: 215 | Win rate: 1.000 | time: 12.26 minutes\n",
      "Epoch: 221/14999 | Loss: 0.0363 | Episodes: 50 | Win count: 216 | Win rate: 1.000 | time: 12.34 minutes\n",
      "Epoch: 222/14999 | Loss: 0.0026 | Episodes: 4 | Win count: 217 | Win rate: 1.000 | time: 12.36 minutes\n",
      "Epoch: 223/14999 | Loss: 0.0014 | Episodes: 2 | Win count: 218 | Win rate: 1.000 | time: 12.37 minutes\n",
      "Epoch: 224/14999 | Loss: 0.0077 | Episodes: 17 | Win count: 219 | Win rate: 1.000 | time: 12.41 minutes\n",
      "Epoch: 225/14999 | Loss: 0.0008 | Episodes: 1 | Win count: 220 | Win rate: 1.000 | time: 12.41 minutes\n",
      "Epoch: 226/14999 | Loss: 0.0123 | Episodes: 24 | Win count: 221 | Win rate: 1.000 | time: 12.46 minutes\n",
      "Epoch: 227/14999 | Loss: 0.0096 | Episodes: 20 | Win count: 222 | Win rate: 1.000 | time: 12.50 minutes\n",
      "Epoch: 228/14999 | Loss: 0.0082 | Episodes: 12 | Win count: 223 | Win rate: 1.000 | time: 12.53 minutes\n",
      "Epoch: 229/14999 | Loss: 0.0117 | Episodes: 19 | Win count: 224 | Win rate: 1.000 | time: 12.58 minutes\n",
      "Epoch: 230/14999 | Loss: 0.0322 | Episodes: 50 | Win count: 225 | Win rate: 1.000 | time: 12.69 minutes\n",
      "Epoch: 231/14999 | Loss: 0.0052 | Episodes: 12 | Win count: 226 | Win rate: 1.000 | time: 12.71 minutes\n",
      "Epoch: 232/14999 | Loss: 0.0011 | Episodes: 2 | Win count: 227 | Win rate: 1.000 | time: 12.72 minutes\n",
      "Epoch: 233/14999 | Loss: 0.0017 | Episodes: 4 | Win count: 228 | Win rate: 1.000 | time: 12.74 minutes\n",
      "Epoch: 234/14999 | Loss: 0.0075 | Episodes: 12 | Win count: 229 | Win rate: 1.000 | time: 12.77 minutes\n",
      "Epoch: 235/14999 | Loss: 0.0084 | Episodes: 15 | Win count: 230 | Win rate: 1.000 | time: 12.81 minutes\n",
      "Epoch: 236/14999 | Loss: 0.0150 | Episodes: 28 | Win count: 231 | Win rate: 1.000 | time: 12.86 minutes\n",
      "Epoch: 237/14999 | Loss: 0.0105 | Episodes: 20 | Win count: 232 | Win rate: 1.000 | time: 12.91 minutes\n",
      "Epoch: 238/14999 | Loss: 0.0122 | Episodes: 23 | Win count: 233 | Win rate: 1.000 | time: 12.96 minutes\n",
      "Epoch: 239/14999 | Loss: 0.0035 | Episodes: 7 | Win count: 234 | Win rate: 1.000 | time: 12.98 minutes\n"
     ]
    },
    {
     "name": "stdout",
     "output_type": "stream",
     "text": [
      "Epoch: 240/14999 | Loss: 0.0089 | Episodes: 21 | Win count: 235 | Win rate: 1.000 | time: 13.03 minutes\n",
      "Epoch: 241/14999 | Loss: 0.0078 | Episodes: 16 | Win count: 236 | Win rate: 1.000 | time: 13.07 minutes\n",
      "Epoch: 242/14999 | Loss: 0.0127 | Episodes: 31 | Win count: 237 | Win rate: 1.000 | time: 13.13 minutes\n",
      "Epoch: 243/14999 | Loss: 0.0160 | Episodes: 28 | Win count: 238 | Win rate: 1.000 | time: 13.20 minutes\n",
      "Epoch: 244/14999 | Loss: 0.0018 | Episodes: 3 | Win count: 239 | Win rate: 1.000 | time: 13.21 minutes\n",
      "Epoch: 245/14999 | Loss: 0.0283 | Episodes: 49 | Win count: 240 | Win rate: 1.000 | time: 13.32 minutes\n",
      "Epoch: 246/14999 | Loss: 0.0096 | Episodes: 19 | Win count: 241 | Win rate: 1.000 | time: 13.38 minutes\n",
      "Epoch: 247/14999 | Loss: 0.0058 | Episodes: 12 | Win count: 242 | Win rate: 1.000 | time: 13.41 minutes\n",
      "Epoch: 248/14999 | Loss: 0.0182 | Episodes: 27 | Win count: 243 | Win rate: 1.000 | time: 13.45 minutes\n",
      "Epoch: 249/14999 | Loss: 0.0021 | Episodes: 7 | Win count: 244 | Win rate: 1.000 | time: 13.47 minutes\n",
      "Epoch: 250/14999 | Loss: 0.0038 | Episodes: 7 | Win count: 245 | Win rate: 1.000 | time: 13.49 minutes\n",
      "Epoch: 251/14999 | Loss: 0.0012 | Episodes: 2 | Win count: 246 | Win rate: 1.000 | time: 13.50 minutes\n",
      "Epoch: 252/14999 | Loss: 0.0105 | Episodes: 20 | Win count: 247 | Win rate: 1.000 | time: 13.54 minutes\n",
      "Epoch: 253/14999 | Loss: 0.0249 | Episodes: 43 | Win count: 248 | Win rate: 1.000 | time: 13.63 minutes\n",
      "Epoch: 254/14999 | Loss: 0.0235 | Episodes: 34 | Win count: 249 | Win rate: 1.000 | time: 13.70 minutes\n",
      "Epoch: 255/14999 | Loss: 0.0191 | Episodes: 29 | Win count: 250 | Win rate: 1.000 | time: 13.76 minutes\n",
      "Epoch: 256/14999 | Loss: 0.0007 | Episodes: 2 | Win count: 251 | Win rate: 1.000 | time: 13.77 minutes\n",
      "Epoch: 257/14999 | Loss: 0.0092 | Episodes: 21 | Win count: 252 | Win rate: 1.000 | time: 13.80 minutes\n",
      "Epoch: 258/14999 | Loss: 0.0060 | Episodes: 9 | Win count: 253 | Win rate: 1.000 | time: 13.82 minutes\n",
      "Epoch: 259/14999 | Loss: 0.0131 | Episodes: 27 | Win count: 254 | Win rate: 1.000 | time: 13.88 minutes\n",
      "Epoch: 260/14999 | Loss: 0.0123 | Episodes: 25 | Win count: 255 | Win rate: 1.000 | time: 13.94 minutes\n",
      "Epoch: 261/14999 | Loss: 0.0095 | Episodes: 18 | Win count: 256 | Win rate: 1.000 | time: 13.98 minutes\n",
      "Epoch: 262/14999 | Loss: 0.0001 | Episodes: 1 | Win count: 257 | Win rate: 1.000 | time: 13.98 minutes\n",
      "Epoch: 263/14999 | Loss: 0.0050 | Episodes: 11 | Win count: 258 | Win rate: 1.000 | time: 14.00 minutes\n",
      "Epoch: 264/14999 | Loss: 0.0250 | Episodes: 34 | Win count: 259 | Win rate: 1.000 | time: 14.07 minutes\n",
      "Epoch: 265/14999 | Loss: 0.0048 | Episodes: 8 | Win count: 260 | Win rate: 1.000 | time: 14.09 minutes\n",
      "Epoch: 266/14999 | Loss: 0.0178 | Episodes: 30 | Win count: 261 | Win rate: 1.000 | time: 14.14 minutes\n",
      "Epoch: 267/14999 | Loss: 0.0022 | Episodes: 3 | Win count: 262 | Win rate: 1.000 | time: 14.16 minutes\n",
      "Epoch: 268/14999 | Loss: 0.0045 | Episodes: 7 | Win count: 263 | Win rate: 1.000 | time: 14.18 minutes\n",
      "Epoch: 269/14999 | Loss: 0.0156 | Episodes: 25 | Win count: 264 | Win rate: 1.000 | time: 14.23 minutes\n",
      "Epoch: 270/14999 | Loss: 0.0055 | Episodes: 9 | Win count: 265 | Win rate: 1.000 | time: 14.25 minutes\n",
      "Epoch: 271/14999 | Loss: 0.0069 | Episodes: 12 | Win count: 266 | Win rate: 1.000 | time: 14.28 minutes\n",
      "Epoch: 272/14999 | Loss: 0.0034 | Episodes: 7 | Win count: 267 | Win rate: 1.000 | time: 14.30 minutes\n",
      "Epoch: 273/14999 | Loss: 0.0057 | Episodes: 12 | Win count: 268 | Win rate: 1.000 | time: 14.34 minutes\n",
      "Epoch: 274/14999 | Loss: 0.0026 | Episodes: 9 | Win count: 269 | Win rate: 1.000 | time: 14.36 minutes\n",
      "Epoch: 275/14999 | Loss: 0.0069 | Episodes: 18 | Win count: 270 | Win rate: 1.000 | time: 14.41 minutes\n",
      "Epoch: 276/14999 | Loss: 0.0016 | Episodes: 4 | Win count: 271 | Win rate: 1.000 | time: 14.41 minutes\n",
      "Epoch: 277/14999 | Loss: 0.0040 | Episodes: 11 | Win count: 272 | Win rate: 1.000 | time: 14.44 minutes\n",
      "Epoch: 278/14999 | Loss: 0.0105 | Episodes: 23 | Win count: 273 | Win rate: 1.000 | time: 14.50 minutes\n",
      "Epoch: 279/14999 | Loss: 0.0144 | Episodes: 33 | Win count: 274 | Win rate: 1.000 | time: 14.58 minutes\n",
      "Epoch: 280/14999 | Loss: 0.0097 | Episodes: 25 | Win count: 275 | Win rate: 1.000 | time: 14.65 minutes\n",
      "Epoch: 281/14999 | Loss: 0.0011 | Episodes: 2 | Win count: 276 | Win rate: 1.000 | time: 14.67 minutes\n",
      "Epoch: 282/14999 | Loss: 0.0035 | Episodes: 7 | Win count: 277 | Win rate: 1.000 | time: 14.69 minutes\n",
      "Epoch: 283/14999 | Loss: 0.0188 | Episodes: 34 | Win count: 278 | Win rate: 1.000 | time: 14.76 minutes\n",
      "Epoch: 284/14999 | Loss: 0.0061 | Episodes: 13 | Win count: 279 | Win rate: 1.000 | time: 14.78 minutes\n",
      "Epoch: 285/14999 | Loss: 0.0480 | Episodes: 72 | Win count: 280 | Win rate: 1.000 | time: 14.92 minutes\n",
      "Epoch: 286/14999 | Loss: 0.0013 | Episodes: 2 | Win count: 281 | Win rate: 1.000 | time: 14.93 minutes\n",
      "Epoch: 287/14999 | Loss: 0.0174 | Episodes: 21 | Win count: 282 | Win rate: 1.000 | time: 14.98 minutes\n",
      "Epoch: 288/14999 | Loss: 0.0147 | Episodes: 19 | Win count: 283 | Win rate: 1.000 | time: 15.02 minutes\n",
      "Epoch: 289/14999 | Loss: 0.0008 | Episodes: 1 | Win count: 284 | Win rate: 1.000 | time: 15.03 minutes\n",
      "Epoch: 290/14999 | Loss: 0.0111 | Episodes: 19 | Win count: 285 | Win rate: 1.000 | time: 15.08 minutes\n",
      "Epoch: 291/14999 | Loss: 0.0075 | Episodes: 11 | Win count: 286 | Win rate: 1.000 | time: 15.09 minutes\n",
      "Epoch: 292/14999 | Loss: 0.0005 | Episodes: 1 | Win count: 287 | Win rate: 1.000 | time: 15.10 minutes\n",
      "Epoch: 293/14999 | Loss: 0.0098 | Episodes: 18 | Win count: 288 | Win rate: 1.000 | time: 15.14 minutes\n",
      "Epoch: 294/14999 | Loss: 0.0138 | Episodes: 23 | Win count: 289 | Win rate: 1.000 | time: 15.19 minutes\n",
      "Epoch: 295/14999 | Loss: 0.0164 | Episodes: 34 | Win count: 290 | Win rate: 1.000 | time: 15.25 minutes\n",
      "Epoch: 296/14999 | Loss: 0.0054 | Episodes: 11 | Win count: 291 | Win rate: 1.000 | time: 15.27 minutes\n",
      "Epoch: 297/14999 | Loss: 0.0325 | Episodes: 46 | Win count: 292 | Win rate: 1.000 | time: 15.36 minutes\n",
      "Epoch: 298/14999 | Loss: 0.0130 | Episodes: 22 | Win count: 293 | Win rate: 1.000 | time: 15.40 minutes\n",
      "Epoch: 299/14999 | Loss: 0.0554 | Episodes: 70 | Win count: 294 | Win rate: 1.000 | time: 15.52 minutes\n",
      "Epoch: 300/14999 | Loss: 0.0345 | Episodes: 31 | Win count: 295 | Win rate: 1.000 | time: 15.59 minutes\n",
      "Epoch: 301/14999 | Loss: 0.0716 | Episodes: 69 | Win count: 296 | Win rate: 1.000 | time: 15.72 minutes\n",
      "Epoch: 302/14999 | Loss: 0.1074 | Episodes: 88 | Win count: 297 | Win rate: 1.000 | time: 15.90 minutes\n",
      "Epoch: 303/14999 | Loss: 0.0266 | Episodes: 24 | Win count: 298 | Win rate: 1.000 | time: 15.95 minutes\n",
      "Epoch: 304/14999 | Loss: 0.0238 | Episodes: 19 | Win count: 299 | Win rate: 1.000 | time: 15.99 minutes\n",
      "Epoch: 305/14999 | Loss: 0.0042 | Episodes: 3 | Win count: 300 | Win rate: 1.000 | time: 15.99 minutes\n",
      "Epoch: 306/14999 | Loss: 0.0189 | Episodes: 17 | Win count: 301 | Win rate: 1.000 | time: 16.03 minutes\n",
      "Epoch: 307/14999 | Loss: 0.0331 | Episodes: 30 | Win count: 302 | Win rate: 1.000 | time: 16.10 minutes\n",
      "Epoch: 308/14999 | Loss: 0.0458 | Episodes: 36 | Win count: 303 | Win rate: 1.000 | time: 16.18 minutes\n",
      "Epoch: 309/14999 | Loss: 0.0121 | Episodes: 10 | Win count: 304 | Win rate: 1.000 | time: 16.20 minutes\n",
      "Epoch: 310/14999 | Loss: 0.0136 | Episodes: 11 | Win count: 305 | Win rate: 1.000 | time: 16.22 minutes\n",
      "Epoch: 311/14999 | Loss: 0.0331 | Episodes: 27 | Win count: 306 | Win rate: 1.000 | time: 16.27 minutes\n",
      "Epoch: 312/14999 | Loss: 0.0112 | Episodes: 11 | Win count: 307 | Win rate: 1.000 | time: 16.30 minutes\n",
      "Epoch: 313/14999 | Loss: 0.0307 | Episodes: 29 | Win count: 308 | Win rate: 1.000 | time: 16.34 minutes\n",
      "Epoch: 314/14999 | Loss: 0.1598 | Episodes: 141 | Win count: 309 | Win rate: 1.000 | time: 16.62 minutes\n",
      "Epoch: 315/14999 | Loss: 0.0011 | Episodes: 1 | Win count: 310 | Win rate: 1.000 | time: 16.62 minutes\n",
      "Epoch: 316/14999 | Loss: 0.0390 | Episodes: 48 | Win count: 311 | Win rate: 1.000 | time: 16.72 minutes\n",
      "Epoch: 317/14999 | Loss: 0.0179 | Episodes: 27 | Win count: 312 | Win rate: 1.000 | time: 16.78 minutes\n",
      "Epoch: 318/14999 | Loss: 0.0079 | Episodes: 12 | Win count: 313 | Win rate: 1.000 | time: 16.82 minutes\n"
     ]
    },
    {
     "name": "stdout",
     "output_type": "stream",
     "text": [
      "Epoch: 319/14999 | Loss: 0.0398 | Episodes: 53 | Win count: 314 | Win rate: 1.000 | time: 16.93 minutes\n",
      "Epoch: 320/14999 | Loss: 0.0130 | Episodes: 18 | Win count: 315 | Win rate: 1.000 | time: 16.98 minutes\n",
      "Epoch: 321/14999 | Loss: 0.0080 | Episodes: 14 | Win count: 316 | Win rate: 1.000 | time: 17.02 minutes\n",
      "Epoch: 322/14999 | Loss: 0.0193 | Episodes: 29 | Win count: 317 | Win rate: 1.000 | time: 17.11 minutes\n",
      "Epoch: 323/14999 | Loss: 0.0187 | Episodes: 29 | Win count: 318 | Win rate: 1.000 | time: 17.18 minutes\n",
      "Epoch: 324/14999 | Loss: 0.0197 | Episodes: 27 | Win count: 319 | Win rate: 1.000 | time: 17.23 minutes\n",
      "Reached 100% win rate at epoch: 324\n",
      "n_epoch: 324, max_mem: 512, data: 32, time: 17.25 minutes\n"
     ]
    },
    {
     "data": {
      "text/plain": [
       "1034.701224"
      ]
     },
     "execution_count": 31,
     "metadata": {},
     "output_type": "execute_result"
    }
   ],
   "source": [
    "model = build_model(maze)\n",
    "qtrain(model, maze, epochs=1000, max_memory=8*maze.size, data_size=32)"
   ]
  },
  {
   "cell_type": "markdown",
   "metadata": {},
   "source": [
    "This cell will check to see if the model passes the completion check. Note: This could take several minutes."
   ]
  },
  {
   "cell_type": "code",
   "execution_count": 32,
   "metadata": {},
   "outputs": [
    {
     "data": {
      "text/plain": [
       "<matplotlib.image.AxesImage at 0x2295a5f3c48>"
      ]
     },
     "execution_count": 32,
     "metadata": {},
     "output_type": "execute_result"
    },
    {
     "data": {
      "image/png": "[encoded data removed]",
      "text/plain": [
       "<Figure size 432x288 with 1 Axes>"
      ]
     },
     "metadata": {
      "needs_background": "light"
     },
     "output_type": "display_data"
    }
   ],
   "source": [
    "completion_check(model, qmaze)\n",
    "show(qmaze)"
   ]
  },
  {
   "cell_type": "markdown",
   "metadata": {},
   "source": [
    "This cell will test your model for one game. It will start the pirate at the top-left corner and run play_game. The agent should find a path from the starting position to the target (treasure). The treasure is located in the bottom-right corner."
   ]
  },
  {
   "cell_type": "code",
   "execution_count": 33,
   "metadata": {},
   "outputs": [
    {
     "data": {
      "text/plain": [
       "<matplotlib.image.AxesImage at 0x2295a4a9d48>"
      ]
     },
     "execution_count": 33,
     "metadata": {},
     "output_type": "execute_result"
    },
    {
     "data": {
      "image/png": "[encoded data removed]",
      "text/plain": [
       "<Figure size 432x288 with 1 Axes>"
      ]
     },
     "metadata": {
      "needs_background": "light"
     },
     "output_type": "display_data"
    }
   ],
   "source": [
    "pirate_start = (0, 0)\n",
    "play_game(model, qmaze, pirate_start)\n",
    "show(qmaze)"
   ]
  },
  {
   "cell_type": "markdown",
   "metadata": {},
   "source": [
    "## Save and Submit Your Work\n",
    "After you have finished creating the code for your notebook, save your work. Make sure that your notebook contains your name in the filename (e.g. Doe_Jane_ProjectTwo.ipynb). This will help your instructor access and grade your work easily. Download a copy of your IPYNB file and submit it to Brightspace. Refer to the Jupyter Notebook in Apporto Tutorial if you need help with these tasks."
   ]
  }
 ],
 "metadata": {
  "kernelspec": {
   "display_name": "Python 3",
   "language": "python",
   "name": "python3"
  },
  "language_info": {
   "codemirror_mode": {
    "name": "ipython",
    "version": 3
   },
   "file_extension": ".py",
   "mimetype": "text/x-python",
   "name": "python",
   "nbconvert_exporter": "python",
   "pygments_lexer": "ipython3",
   "version": "3.7.4"
  }
 },
 "nbformat": 4,
 "nbformat_minor": 2
}
